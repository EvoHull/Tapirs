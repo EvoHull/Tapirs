{
 "cells": [
  {
   "cell_type": "markdown",
   "metadata": {},
   "source": [
    "# QC"
   ]
  },
  {
   "cell_type": "code",
   "execution_count": null,
   "metadata": {},
   "outputs": [],
   "source": [
    "%%bash\n",
    "\n",
    "#PAIRED READS QC\n",
    "\n",
    "mkdir 3_qc\n",
    "mkdir 4_merged_fastq\n",
    "mkdir 5_merged_fasta\n",
    "\n",
    "libraries=$(ls -1 2_demultiplexed)\n",
    "for library in $libraries\n",
    "do\n",
    "    mkdir 3_qc/${library}/\n",
    "    mkdir 4_merged_fastq/${library}/\n",
    "    mkdir 5_merged_fasta/${library}/\n",
    "    files=$(ls -1 2_demultiplexed/${library} | grep -v invalid | grep .R1. | sed 's/.R1.f.*//')\n",
    "    for sample in $files\n",
    "    do\n",
    "        fastp -i 2_demultiplexed/${library}/${sample}.R1.fastq -I 2_demultiplexed/${library}/${sample}.R2.fastq \\\n",
    "        -o 3_qc/${library}/${sample}.R1.fastq -O 3_qc/${library}/${sample}.R2.fastq \\\n",
    "        --unpaired1 3_qc/${library}/${sample}_unpaired.R1.fastq \\\n",
    "        --unpaired2 3_qc/${library}/${sample}_unpaired.R2.fastq \\\n",
    "        --failed_out 3_qc/${library}/${sample}_failed.fastq \\\n",
    "        -q 30 \\\n",
    "        --cut_tail \\\n",
    "        --trim_front1 20 \\\n",
    "        --trim_front2 20 \\\n",
    "        --max_len1 106 \\\n",
    "        --max_len2 106 \\\n",
    "        -l 90 \\\n",
    "        --merge \\\n",
    "        --overlap_len_require 90 \\\n",
    "        --correction \\\n",
    "        --merged_out 4_merged_fastq/${library}/${sample}_merged.fastq \\\n",
    "        -w 6 \\\n",
    "        -h ./fastp_out/${sample}_fastp.html \\\n",
    "        -j ./fastp_out/${sample}_fastp.json\n",
    "        cat 3_qc/${library}/${sample}.R1.fastq >> 4_merged_fastq/${library}/${sample}_merged.fastq\n",
    "        cat 3_qc/${library}/${sample}_unpaired.R1.fastq >> 4_merged_fastq/${library}/${sample}_merged.fastq\n",
    "        seqkit fq2fa 4_merged_fastq/${library}/${sample}_merged.fastq -o 5_merged_fasta/${library}/${sample}_merged.fasta\n",
    "    done\n",
    "done\n"
   ]
  },
  {
   "cell_type": "markdown",
   "metadata": {},
   "source": [
    "# derep - denoise - chimera - rerep"
   ]
  },
  {
   "cell_type": "code",
   "execution_count": null,
   "metadata": {},
   "outputs": [],
   "source": [
    "%%bash\n",
    "\n",
    "#DEREPLICATE, DENOISE, CHIMERA DETECTION AND REREPLICATE\n",
    "\n",
    "mkdir 6_denoise_uc/\n",
    "mkdir 6_denoise_uc/derep/\n",
    "mkdir 6_denoise_uc/denoise/\n",
    "mkdir 6_denoise_uc/uchime/\n",
    "mkdir 6_denoise_uc/rerep/\n",
    "\n",
    "libraries=$(ls -1 5_merged_fasta/)\n",
    "for library in $libraries\n",
    "do\n",
    "    mkdir 6_denoise_uc/derep/${library}/\n",
    "    mkdir 6_denoise_uc/denoise/${library}/\n",
    "    mkdir 6_denoise_uc/uchime/${library}/\n",
    "    mkdir 6_denoise_uc/rerep/${library}/\n",
    "    \n",
    "    files=$(ls -1 5_merged_fasta/${library} | grep -v invalid | grep _merged.fasta | sed 's/_merged.fasta*//')\n",
    "    for sample in $files\n",
    "    do\n",
    "        \n",
    "        vsearch --derep_fulllength 5_merged_fasta/${library}/${sample}_merged.fasta --sizeout \\\n",
    "        --output 6_denoise_uc/derep/${library}/${sample}_derep.fasta --minuniquesize 3 #--uc stuff.txt\n",
    "        \n",
    "        vsearch --cluster_unoise 6_denoise_uc/derep/${library}/${sample}_derep.fasta --minsize 3 \\\n",
    "        --unoise_alpha 0.5 --centroids 6_denoise_uc/denoise/${library}/${sample}_denoise.fasta #--uc stuff.txt\n",
    "        \n",
    "        vsearch --uchime_ref 6_denoise_uc/denoise/${library}/${sample}_denoise.fasta --db blast_db/12s_full.fasta \\\n",
    "        --chimeras 6_denoise_uc/uchime/${library}/${sample}_chimera.fasta \\\n",
    "        --borderline 6_denoise_uc/uchime/${library}/${sample}_chimera.fasta \\\n",
    "        --mindiffs 1 --mindiv 0.8 --nonchimeras 6_denoise_uc/uchime/${library}/${sample}_nc.fasta #--uc stuff.txt\n",
    "        \n",
    "        vsearch --rereplicate 6_denoise_uc/uchime/${library}/${sample}_nc.fasta \\\n",
    "        --output 6_denoise_uc/rerep/${library}/${sample}_rerep.fasta #--uc stuff.txt\n",
    "        \n",
    "    done\n",
    "done\n"
   ]
  },
  {
   "cell_type": "markdown",
   "metadata": {},
   "source": [
    "# Blast"
   ]
  },
  {
   "cell_type": "code",
   "execution_count": null,
   "metadata": {},
   "outputs": [],
   "source": [
    "%%bash\n",
    "\n",
    "mkdir blast_out\n",
    "\n",
    "blastn -query 6_denoise_uc/uchime/EA01/BLEL01_uc.fasta \\\n",
    "-db blast_db/12s_full \\\n",
    "-out blast_out/BLEL01_blast.tsv \\\n",
    "-perc_identity 100 \\\n",
    "-outfmt '6 qseqid stitle sacc staxids pident qcovs evalue bitscore' \\\n",
    "-num_alignments 20\n"
   ]
  },
  {
   "cell_type": "markdown",
   "metadata": {},
   "source": [
    "# Taxonomy to Blast"
   ]
  },
  {
   "cell_type": "code",
   "execution_count": null,
   "metadata": {},
   "outputs": [],
   "source": [
    "%%bash\n",
    "\n",
    "python tax_to_blast.py -i blast_out/BLEL04_blast.tsv -o blast_out/BLEL04_tax.tsv -lin new_taxdump/rankedlineage.dmp"
   ]
  },
  {
   "cell_type": "markdown",
   "metadata": {},
   "source": [
    "# LCA"
   ]
  },
  {
   "cell_type": "code",
   "execution_count": null,
   "metadata": {},
   "outputs": [],
   "source": [
    "%%bash\n",
    "\n",
    "mkdir lca_out\n",
    "\n",
    "python mlca.py -i blast_out/BLEL04_tax.tsv -o lca_out/BLEL04_lca3.tsv -b 10 -id 100 -cov 60 -m 100 -hits 1"
   ]
  }
 ],
 "metadata": {
  "kernelspec": {
   "display_name": "Python 3",
   "language": "python",
   "name": "python3"
  },
  "language_info": {
   "codemirror_mode": {
    "name": "ipython",
    "version": 3
   },
   "file_extension": ".py",
   "mimetype": "text/x-python",
   "name": "python",
   "nbconvert_exporter": "python",
   "pygments_lexer": "ipython3",
   "version": "3.7.3"
  }
 },
 "nbformat": 4,
 "nbformat_minor": 2
}

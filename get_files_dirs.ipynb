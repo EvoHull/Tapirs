{
 "cells": [
  {
   "cell_type": "markdown",
   "metadata": {},
   "source": [
    "## Get files and directories using python not bash"
   ]
  },
  {
   "cell_type": "code",
   "execution_count": 98,
   "metadata": {},
   "outputs": [],
   "source": [
    "import os\n",
    "import csv\n",
    "import glob\n",
    "basepath = \"data/01_demultiplexed/\""
   ]
  },
  {
   "cell_type": "markdown",
   "metadata": {},
   "source": [
    "script to get libraries"
   ]
  },
  {
   "cell_type": "code",
   "execution_count": 30,
   "metadata": {},
   "outputs": [
    {
     "name": "stdout",
     "output_type": "stream",
     "text": [
      "N1b\n",
      "N1\n",
      "EA01\n"
     ]
    }
   ],
   "source": [
    "with os.scandir(basepath) as entries:\n",
    "    for entry in entries:\n",
    "        if entry.is_dir():  # find directories\n",
    "            print(entry.name),  # directory name"
   ]
  },
  {
   "cell_type": "code",
   "execution_count": null,
   "metadata": {},
   "outputs": [],
   "source": [
    "for dirpath, dirs, files in os.walk(basepath):\n",
    "\tprint(dirs, files)  # list of files in each dir\n",
    "\n",
    "# works but annoyingly records .DS_Store"
   ]
  },
  {
   "cell_type": "markdown",
   "metadata": {},
   "source": [
    "Need it to print to tsv"
   ]
  },
  {
   "cell_type": "code",
   "execution_count": 248,
   "metadata": {},
   "outputs": [],
   "source": [
    "with os.scandir(basepath) as entries:\n",
    "    with open('libraries.tsv', 'w') as tsvfile:\n",
    "        writer = csv.writer(tsvfile, delimiter='\\t')        \n",
    "        for entry in entries:\n",
    "            if entry.is_dir():  # find directories\n",
    "                writer.writerow([entry.name])  # dir name\n",
    "                \n",
    "# this works, do I need column header?"
   ]
  },
  {
   "cell_type": "code",
   "execution_count": 260,
   "metadata": {},
   "outputs": [],
   "source": [
    "# version of above without csv\n",
    "\n",
    "with os.scandir(basepath) as entries:\n",
    "    with open('libraries.tsv', 'w') as outfile:\n",
    "#         writer = csv.writer(tsvfile, delimiter='\\t')        \n",
    "        for entry in entries:\n",
    "            if entry.is_dir():  # find directories\n",
    "                dirnames = [entry.name]\n",
    "                s1='\\n'.join(dirnames)\n",
    "                outfile.write(s1+'\\n')\n",
    "#                 sep = \"\\n\"\n",
    "#                 dirstr = str(entry)\n",
    "#                 outfile.write(dirstr) \n",
    "#                 writer.writerow([entry.name])  # dir name\n",
    "\n",
    "# s1='\\n'.join(l1)"
   ]
  },
  {
   "cell_type": "code",
   "execution_count": 272,
   "metadata": {},
   "outputs": [
    {
     "name": "stdout",
     "output_type": "stream",
     "text": [
      "N1b\n",
      "N1\n",
      "EA01\n"
     ]
    }
   ],
   "source": [
    "# a better way to deal with strings from lists\n",
    "\n",
    "import os\n",
    "\n",
    "basepath = \"data/01_demultiplexed/\"  # starting location\n",
    "\n",
    "with os.scandir(basepath) as entries:\n",
    "    with open('libraries.tsv', 'w') as outfile:  # specify file to write\n",
    "        for entry in entries:\n",
    "            if entry.is_dir():  # find directories\n",
    "                dirnames = [entry.name]  # list\n",
    "                print(str(os.linesep.join(dirnames)))\n",
    "                outfile.write(str(\"\".join(dirnames)) + '\\n')  \n",
    "\n",
    "\n"
   ]
  },
  {
   "cell_type": "code",
   "execution_count": 273,
   "metadata": {},
   "outputs": [],
   "source": [
    "# test of get files and dirs with new code\n",
    "\n",
    "startdir = \"data/01_demultiplexed/\"\n",
    "with open('file_tab_py.tsv', 'w') as outfile:\n",
    "    for root, dirs, files in os.walk(startdir):\n",
    "        for file in files: # iterate across files from startdir down\n",
    "            if file.endswith(('fastq.gz', 'fq.gz')): # specify file endings\n",
    "                path= os.path.join(root, file)\n",
    "                head_tail = os.path.split(path)  # split into path & file\n",
    "                # remove startdir from path leaving directory name 'dirs'\n",
    "                dirs = head_tail[0].replace(startdir, '')\n",
    "                dflist = [dirs, file] # make list of directories and files\n",
    "                dfstr = '\\t'.join(dflist) # convert to string with tabs\n",
    "                outfile.write(dfstr + '\\n')  # write newline after dir tab file\n"
   ]
  },
  {
   "cell_type": "markdown",
   "metadata": {},
   "source": [
    "Need to recursively list fastq and gz"
   ]
  },
  {
   "cell_type": "code",
   "execution_count": 72,
   "metadata": {},
   "outputs": [
    {
     "name": "stdout",
     "output_type": "stream",
     "text": [
      "N1b\n",
      "N1\n",
      "EA01\n",
      "text file:  test.txt\n"
     ]
    }
   ],
   "source": [
    "with os.scandir(basepath) as entries:\n",
    "    for entry in entries:\n",
    "        if entry.is_dir():  # find directories\n",
    "            print(entry.name),  # directory name\n",
    "        elif entry.name.endswith('.txt'):\n",
    "            print(\"text file: \", entry.name)"
   ]
  },
  {
   "cell_type": "markdown",
   "metadata": {},
   "source": [
    "need to make it recursive, and print to tsv"
   ]
  },
  {
   "cell_type": "markdown",
   "metadata": {},
   "source": [
    "write a file\n",
    "https://www.pythoncentral.io/recursive-file-and-directory-manipulation-in-python-part-1/"
   ]
  },
  {
   "cell_type": "code",
   "execution_count": 83,
   "metadata": {},
   "outputs": [],
   "source": [
    "# works but writes full paths\n",
    "exten = '.gz'\n",
    "filename = 'dirs_and_gz.txt'\n",
    "\n",
    "results = str()\n",
    " \n",
    "for dirpath, dirnames, files in os.walk(basepath):\n",
    "    for name in files:\n",
    "        if name.lower().endswith(exten):\n",
    "            # Save to results string instead of printing\n",
    "            # the issue is here, I don't want path\n",
    "            results += '%s\\n' % os.path.join(dirpath, name)\n",
    "# Write results to file\n",
    "with open(filename, 'w') as outfile:\n",
    "#     outfile.write(results)\n",
    "    outfile.write(results)"
   ]
  },
  {
   "cell_type": "markdown",
   "metadata": {},
   "source": [
    "next I need to get dirname and files"
   ]
  },
  {
   "cell_type": "markdown",
   "metadata": {},
   "source": [
    "https://docs.python.org/3.0/library/os.path.html\n",
    "\n",
    "os.path.relpath(path[, start])\n",
    "\n",
    "Return a relative filepath to path either from the current directory or from an optional start point.\n",
    "\n",
    "start defaults to os.curdir. Availability: Windows, Unix."
   ]
  },
  {
   "cell_type": "code",
   "execution_count": 92,
   "metadata": {},
   "outputs": [
    {
     "data": {
      "text/plain": [
       "''"
      ]
     },
     "execution_count": 92,
     "metadata": {},
     "output_type": "execute_result"
    }
   ],
   "source": [
    "path = 'data'\n",
    "os.path.dirname(path)"
   ]
  },
  {
   "cell_type": "markdown",
   "metadata": {},
   "source": [
    "## Relative path approach\n",
    "* relpath approach will give directory/file\n",
    "* this could then be parsed to tsv by specifying / as the delimeter\n",
    "* I would need to feed it the path of every file ending in .gz found\n",
    "* start path is constant\n"
   ]
  },
  {
   "cell_type": "code",
   "execution_count": 97,
   "metadata": {},
   "outputs": [
    {
     "name": "stdout",
     "output_type": "stream",
     "text": [
      "EA01/BLEL01.R2.fastq.gz\n"
     ]
    }
   ],
   "source": [
    "# Python program to explain os.path.relpath() method  \n",
    "    \n",
    "# importing os module  \n",
    "import os \n",
    "  \n",
    "# Path \n",
    "# path = \"/home / User / Desktop / file.txt\"\n",
    "path = \"./data/01_demultiplexed/EA01/BLEL01.R2.fastq.gz\"\n",
    "# Path of Start directory \n",
    "start = \"./data/01_demultiplexed/\"\n",
    "  \n",
    "# Compute the relative file path \n",
    "# to the given path from the  \n",
    "# the given start directory. \n",
    "relative_path = os.path.relpath(path, start) \n",
    "  \n",
    "# Print the relative file path \n",
    "# to the given path from the  \n",
    "# the given start directory. \n",
    "print(relative_path) "
   ]
  },
  {
   "cell_type": "code",
   "execution_count": 167,
   "metadata": {},
   "outputs": [
    {
     "name": "stdout",
     "output_type": "stream",
     "text": [
      "EA01/BLEL01.R2.fastq.gz\n"
     ]
    }
   ],
   "source": [
    "start = \"data/01_demultiplexed/\"\n",
    "path = \"data/01_demultiplexed/EA01/BLEL01.R2.fastq.gz\"\n",
    "filename = 'relpath_out.tsv'\n",
    "\n",
    "relative_path = os.path.relpath(path, start) \n",
    "  \n",
    "print(relative_path) \n",
    "# Write results to file, this should be csv writer\n",
    "with open(filename, 'w') as outfile:\n",
    "    outfile.write(relative_path)            "
   ]
  },
  {
   "cell_type": "code",
   "execution_count": 247,
   "metadata": {},
   "outputs": [],
   "source": [
    "# works well to print file and dir to tsv\n",
    "\n",
    "startdir = \"data/01_demultiplexed/\"\n",
    "with open('filetabfinal.tsv', 'w') as outfile:\n",
    "    for root, dirs, files in os.walk(startdir):\n",
    "        for file in files: # iterate across files from startdir down\n",
    "            if file.endswith(('fastq.gz', 'fq.gz')): # specify file endings\n",
    "                path= os.path.join(root, file)\n",
    "                head_tail = os.path.split(path)  # split into path & file\n",
    "                # remove startdir from path leaving directory name 'dirs'\n",
    "                dirs = head_tail[0].replace(startdir, '')\n",
    "    #             print(\"directory: \", dirs)  # directory \n",
    "    #             print(\"file: \", head_tail[1])  # filename\n",
    "    #             print(\"head: \", head_tail[0])  # head\n",
    "                dflist = [dirs, file] # make list for csv.writer\n",
    "                sep = '\\t'  # use tab as seperator\n",
    "                dfstr = sep.join(dflist) # convert to sting with tabs\n",
    "    #            print(dfstr)\n",
    "                # write as tsv file, need to get on same lilne\n",
    "    #             with open('filetabfinal.tsv', 'w') as outfile:\n",
    "                outfile.write(dfstr + '\\n')           "
   ]
  },
  {
   "cell_type": "code",
   "execution_count": 274,
   "metadata": {},
   "outputs": [],
   "source": [
    "# test of file specifying\n",
    "\n",
    "startdir = \"data/01_demultiplexed/\"\n",
    "with open('file_tab_py.tsv', 'w') as outfile:\n",
    "    for root, dirs, files in os.walk(startdir):\n",
    "        for file in files: # iterate across files from startdir down\n",
    "            if file.endswith(('fastq.gz', 'fq.gz')): # specify file endings\n",
    "                path= os.path.join(root, file)\n",
    "                head_tail = os.path.split(path)  # split into path & file\n",
    "                # remove startdir from path leaving directory name 'dirs'\n",
    "                dirs = head_tail[0].replace(startdir, '')\n",
    "                f = head_tail[1]\n",
    "                dflist = [dirs, f] # make list of directories and files\n",
    "                dfstr = '\\t'.join(dflist) # convert to string with tabs\n",
    "                outfile.write(dfstr + '\\n')  # write newline after dir tab file\n",
    "\n"
   ]
  },
  {
   "cell_type": "code",
   "execution_count": 166,
   "metadata": {},
   "outputs": [
    {
     "name": "stdout",
     "output_type": "stream",
     "text": [
      "EA01/test.fastq.gz\n"
     ]
    }
   ],
   "source": [
    "fpath = 'EA01/test.fastq.gz'\n",
    "# fpath_tab = fpath.replace('/', ',')\n",
    "with open('filetab.tsv', 'w') as outfile:\n",
    "    writer = csv.writer(outfile, delimiter='\\t')        \n",
    "    writer.writerow(fpath)\n",
    "print(fpath_tab)"
   ]
  },
  {
   "cell_type": "code",
   "execution_count": 172,
   "metadata": {},
   "outputs": [
    {
     "name": "stdout",
     "output_type": "stream",
     "text": [
      "data/01_demultiplexed/210.R2.fq.gz\n"
     ]
    }
   ],
   "source": [
    "path = \"data/01_demultiplexed/*.gz\"\n",
    "\n",
    "# l = os.listdir(path)\n",
    "# print(l)\n",
    "\n",
    "for f in glob.iglob(path, recursive=True):\n",
    "    print(f)\n",
    "    \n",
    "# for root, dirs, files in os.walk(path):\n",
    "#     g = glob.glob(\"*.fastq.gz\")\n",
    "#     for g in files:\n",
    "#         print(os.path.join(root, g))\n",
    "        \n",
    "# glob recursive not working"
   ]
  },
  {
   "cell_type": "code",
   "execution_count": null,
   "metadata": {},
   "outputs": [],
   "source": [
    "# works to write full paths\n",
    "import glob\n",
    "for filename in glob.iglob('data/01_demultiplexed/**/*.gz', recursive=True):\n",
    "    print(filename)"
   ]
  },
  {
   "cell_type": "code",
   "execution_count": null,
   "metadata": {},
   "outputs": [],
   "source": [
    "# works and writes full path\n",
    "# successfully checks for fq or fastq\n",
    "\n",
    "for root, dirs, files in os.walk('data/01_demultiplexed/'):\n",
    "    for file in files:\n",
    "        if file.endswith('fastq.gz'):\n",
    "            print(os.path.join(root, file))\n",
    "        elif file.endswith('fq.gz'):\n",
    "            print(os.path.join(root, file))"
   ]
  },
  {
   "cell_type": "code",
   "execution_count": null,
   "metadata": {},
   "outputs": [],
   "source": [
    "for root, dirs, files in os.walk('data/01_demultiplexed/'):\n",
    "    for file in files:\n",
    "        if file.endswith('fastq.gz'):\n",
    "            print(os.path.join(root, file))\n",
    "        elif file.endswith('fq.gz'):\n",
    "            print(os.path.join(root, file))\n",
    "head_tail = os.path.split(path) "
   ]
  }
 ],
 "metadata": {
  "kernelspec": {
   "display_name": "Python 3",
   "language": "python",
   "name": "python3"
  },
  "language_info": {
   "codemirror_mode": {
    "name": "ipython",
    "version": 3
   },
   "file_extension": ".py",
   "mimetype": "text/x-python",
   "name": "python",
   "nbconvert_exporter": "python",
   "pygments_lexer": "ipython3",
   "version": "3.7.6"
  }
 },
 "nbformat": 4,
 "nbformat_minor": 4
}
